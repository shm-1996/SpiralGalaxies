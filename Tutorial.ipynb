{
 "cells": [
  {
   "cell_type": "code",
   "execution_count": null,
   "metadata": {},
   "outputs": [],
   "source": [
    "from tpcf import *\n",
    "from spiral import *\n",
    "from plots import *"
   ]
  },
  {
   "cell_type": "markdown",
   "metadata": {},
   "source": [
    "# Notes"
   ]
  },
  {
   "cell_type": "markdown",
   "metadata": {},
   "source": [
    "This Jupyter notebook contains the basic instructions to construct a galaxy filled with star clusters in a spiral pattern, compute its Two-Point Correlation Function, and plot the result. \n",
    "\n",
    "The spiral pattern is generated through a logarathmic spiral that follows the following distribution in azimuthal angle $\\theta$ and radius $r$\n",
    "$$P(\\theta) = \\frac{m}{tan(\\psi)} \\log\\left( {\\frac{r}{R_0}} \\right),$$\n",
    "where $m$ is the number of spiral arms/turns, $\\psi$ the pitch angle, and $R_0$ a parameter that sets the phase of the spiral arms. \n",
    "\n",
    "We also add some sinusoidal noise to generate smoother spiral arms, that follows the probability distribution \n",
    "$$P(\\theta) = \\frac{N_0^{1-\\cos{2\\theta}}}{2},$$\n",
    "where $N_0$ is a parameter that sets the degree of smoothness - higher is smoother, and $N_0=0$ would be without smoothing.\n",
    "\n",
    "We sample $r$ randomly in the range 0 to $R_{\\mathrm{max}}$, where $R_{\\mathrm{max}}$ is a user-defined maximum radius of the galaxy. We then obtain the $x,y$ positions of the clusters by doing $x=r\\cos{\\theta}$, and $y=r\\sin{\\theta}$. Sampling is done using the inverse sampling method. "
   ]
  },
  {
   "cell_type": "markdown",
   "metadata": {},
   "source": [
    "### Call the Function Smooth_Spiral for a smooth spiral pattern\n",
    "\n",
    "You can obtain the x,y positions of the clusters by calling the function `Create_Spiral`. It contains the following parameters - \n",
    "1. pitchAngle : Pitch angle ($\\psi$) of the spiral arms\n",
    "2. m : Number of turns in the spiral arm $m$\n",
    "3. r0: Phase of the spiral arms $R_0$\n",
    "4. rmax: Maximum radius of a cluster in the galaxy\n",
    "5. nsamples: Number of star clusters to create in the galaxy\n",
    "6. noiseConst : Constant for the sinusoidal noise $N_0$. Use 0 for no smoothing. \n",
    "\n",
    "#### Have Fun Experimenting"
   ]
  },
  {
   "cell_type": "code",
   "execution_count": null,
   "metadata": {},
   "outputs": [],
   "source": [
    "#Get the positions of the star clusters in the galaxy\n",
    "x,y = Create_Spiral(pitchAngle=13,m=2,r0=8.0,rmax=20,nsamples=1000,noiseConst=10)\n",
    "\n",
    "#Plot the Star clusters\n",
    "plot_clusters(x,y)\n"
   ]
  },
  {
   "cell_type": "markdown",
   "metadata": {},
   "source": [
    "### Compute Two-Point Correlation Function (TPCF) of these star clusters\n",
    "\n",
    "See the documentation for the function `compute_tpcf` in `tpcf.py` for further options."
   ]
  },
  {
   "cell_type": "code",
   "execution_count": null,
   "metadata": {},
   "outputs": [],
   "source": [
    "bins,corr,dcorr = compute_tpcf(x,y,nobins=40)"
   ]
  },
  {
   "cell_type": "markdown",
   "metadata": {},
   "source": [
    "## Plot the TPCF\n",
    "\n",
    "See the documentation for the function `plot_tpcf` in `plots.py` for further options."
   ]
  },
  {
   "cell_type": "code",
   "execution_count": null,
   "metadata": {},
   "outputs": [],
   "source": [
    "plot_tpcf(bins,corr,dcorr)"
   ]
  },
  {
   "cell_type": "markdown",
   "metadata": {},
   "source": [
    "## Compare different distributions of star clusters\n",
    "Here I give a short tutorial on how to compare the TPCF of two different star cluster distributions. The basic procedure is to do the following in order - \n",
    "1. Create a figure and axes instance where the TPCFs would be compared\n",
    "2. Prepare star cluster positions with `Create_Spiral`\n",
    "3. Compute TPCF with `compute_tpcf`\n",
    "4. Call `plot_tpcf`, passing the axes instance so that it plots in your desired figure\n",
    "5. Do steps 2-4 for each distribution\n",
    "\n",
    "I demonstrate this for comparing 2 different distributions below."
   ]
  },
  {
   "cell_type": "code",
   "execution_count": null,
   "metadata": {},
   "outputs": [],
   "source": [
    "#Step 1: Create figure and axes instance\n",
    "fig,axs = plt.subplots(ncols=1)\n",
    "\n",
    "#Galaxy A with Star cluster distribution\n",
    "#Step 2: Prepare star cluster positions\n",
    "x,y = Create_Spiral(pitchAngle=15)\n",
    "\n",
    "#Step 3: Compute TPCF\n",
    "bins,corr,dcorr = compute_tpcf(x,y)\n",
    "\n",
    "#Step 4: Plot the TPCF\n",
    "plot_tpcf(bins,corr,dcorr,axs=axs,label='Galaxy A',color='blue') #Pass the axes to ensure plots are together to compare\n",
    "#Pass a label and a color as well to differentiate between the two cases\n",
    "\n",
    "\n",
    "#Galaxy B with Star cluster distribution. Identical to A, only changing pitch angle to 30 degrees\n",
    "#Step 2: Prepare star cluster positions\n",
    "x,y = Create_Spiral(pitchAngle=30)\n",
    "\n",
    "#Step 3: Compute TPCF\n",
    "bins,corr,dcorr = compute_tpcf(x,y)\n",
    "\n",
    "#Step 4: Plot the TPCF\n",
    "plot_tpcf(bins,corr,dcorr,axs=axs,label='Galaxy B',color='red') #Pass the axes to ensure plots are together to compare\n",
    "\n",
    "\n",
    "#Save figure if you'd like\n",
    "#fig.savefig('compareGalaxies.pdf')"
   ]
  },
  {
   "cell_type": "markdown",
   "metadata": {},
   "source": [
    "Feel free to email me at shyam.menon@anu.edu.au with any questions!"
   ]
  }
 ],
 "metadata": {
  "kernelspec": {
   "display_name": "Python 3",
   "language": "python",
   "name": "python3"
  },
  "language_info": {
   "codemirror_mode": {
    "name": "ipython",
    "version": 3
   },
   "file_extension": ".py",
   "mimetype": "text/x-python",
   "name": "python",
   "nbconvert_exporter": "python",
   "pygments_lexer": "ipython3",
   "version": "3.7.4"
  }
 },
 "nbformat": 4,
 "nbformat_minor": 2
}
